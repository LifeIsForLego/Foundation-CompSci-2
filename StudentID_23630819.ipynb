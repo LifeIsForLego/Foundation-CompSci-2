{
  "cells": [
    {
      "cell_type": "markdown",
      "metadata": {
        "id": "nxXPa6U6rEkJ"
      },
      "source": [
        "1. Create a Google Colab notebook for your 6G3Z3107 1CWK100 submission. Use the title StudentID_YourNumber and save as a notebook (ipynb).Using Jupyter – download the ipynb notebook, then download as html. You MUST save this notebook as a pdf for submission. Use Text Cells to copy the questions (1 mark for each question), Code Cells to insert your Python code, and insert pictures if required."
      ]
    },
    {
      "cell_type": "markdown",
      "metadata": {
        "id": "g-ceP1pZd1_i"
      },
      "source": [
        "2. In a Jupyter notebook, compute the following:\n",
        "\n",
        "  (a) $2/5 + 1/4 (2/7 − 1/3)$, accurately;\n",
        "\n",
        "  (b) $cos (𝜋/5) − sin (𝜋/3)$, to five decimal places."
      ]
    },
    {
      "cell_type": "code",
      "execution_count": null,
      "metadata": {
        "colab": {
          "base_uri": "https://localhost:8080/"
        },
        "id": "Sk9MK27pd1_j",
        "outputId": "6aad818e-98df-4c8f-9fa8-f4dc641b6bcf"
      },
      "outputs": [
        {
          "output_type": "stream",
          "name": "stdout",
          "text": [
            "2a:  0.3880952380952381\n",
            "2b: -0.05701\n"
          ]
        }
      ],
      "source": [
        "from math import *\n",
        "\n",
        "ans1 = (2/5) + (1/4) * ((2/7) - (1/3))\n",
        "print(\"2a: \", ans1)\n",
        "\n",
        "ans2 = cos(pi/5) - sin(pi/3)\n",
        "print(\"2b: {:.5f}\".format(ans2))\n"
      ]
    },
    {
      "cell_type": "markdown",
      "source": [
        "3. The logisitic map function, f say, is defined as:\n",
        "\n",
        "  $𝑓(𝑥) = 3.5𝑥(1 − 𝑥)$\n",
        "\n",
        "  Write a Python program that defines this function and use a loop to compute the first 20 iterates of:\n",
        "\n",
        "  $𝑥𝑛+1 = 𝑓(𝑥𝑛)$\n",
        "\n",
        "  Given that $𝑥0 = 0.1$\n",
        "\n",
        "  Evaluate to 10 decimal places throughout and put the sequence of values in a list."
      ],
      "metadata": {
        "id": "JqT6-7BJiNo-"
      }
    },
    {
      "cell_type": "code",
      "source": [
        "from decimal import Decimal as dec\n",
        "\n",
        "x = dec(\"0.1\")\n",
        "xcount = 0\n",
        "print(\"x0 = \", x)\n",
        "for i in range(20):\n",
        "  xcount = xcount + 1\n",
        "  x = dec(3.5) * x * (1 - x)\n",
        "  print(\"x\" + str(xcount), \"=\", \"{:.10f}\".format(x))"
      ],
      "metadata": {
        "colab": {
          "base_uri": "https://localhost:8080/"
        },
        "id": "l7FiEgOyi4DF",
        "outputId": "36a342fc-31d3-4ec9-c6d9-87b2290c9cbd"
      },
      "execution_count": null,
      "outputs": [
        {
          "output_type": "stream",
          "name": "stdout",
          "text": [
            "x0 =  0.1\n",
            "x1 = 0.3150000000\n",
            "x2 = 0.7552125000\n",
            "x3 = 0.6470330295\n",
            "x4 = 0.7993345089\n",
            "x5 = 0.5613959813\n",
            "x6 = 0.8618068672\n",
            "x7 = 0.4168352680\n",
            "x8 = 0.8507926957\n",
            "x9 = 0.4443056962\n",
            "x10 = 0.8641435058\n",
            "x11 = 0.4108982751\n",
            "x12 = 0.8472130892\n",
            "x13 = 0.4530507475\n",
            "x14 = 0.8672851869\n",
            "x15 = 0.4028555701\n",
            "x16 = 0.8419703591\n",
            "x17 = 0.4656969572\n",
            "x18 = 0.8708815544\n",
            "x19 = 0.3935640541\n",
            "x20 = 0.8353498630\n"
          ]
        }
      ]
    }
  ],
  "metadata": {
    "colab": {
      "provenance": []
    },
    "kernelspec": {
      "display_name": "Python 3 (ipykernel)",
      "language": "python",
      "name": "python3"
    },
    "language_info": {
      "codemirror_mode": {
        "name": "ipython",
        "version": 3
      },
      "file_extension": ".py",
      "mimetype": "text/x-python",
      "name": "python",
      "nbconvert_exporter": "python",
      "pygments_lexer": "ipython3",
      "version": "3.10.9"
    }
  },
  "nbformat": 4,
  "nbformat_minor": 0
}